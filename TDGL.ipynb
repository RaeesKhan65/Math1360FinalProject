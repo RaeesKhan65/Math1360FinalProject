{
 "cells": [
  {
   "cell_type": "code",
   "execution_count": 1,
   "metadata": {},
   "outputs": [],
   "source": [
    "import numpy as np\n",
    "import matplotlib.pyplot as plt\n",
    "from scipy import linalg, ndimage\n",
    "from scipy.sparse import spdiags,linalg,eye\n",
    "from IPython import display # manipulate notebook output\n",
    "from time import sleep # used to slow things down\n",
    "from matplotlib.animation import FuncAnimation"
   ]
  },
  {
   "cell_type": "code",
   "execution_count": 2,
   "metadata": {},
   "outputs": [],
   "source": [
    "def L(x): #Here i define the Laplacian, I constructed this by generalizing what people had done online in lower \n",
    "    N = (x)**2 #dimensions once they had the system of simulataneous equation, i construct an x**2 one as\n",
    "    Diag = np.ones(N)#once i reshape my NxN grid it becomes N**2 x 1, and i need a matrix which is N**2 x N**2\n",
    "    data = [-4*Diag,Diag,Diag,Diag,Diag]#I add the diags of -4 and 1 that i need for my laplacian\n",
    "    diags = np.array([0,-1,1,-x,x])#I specify which diagonals i want them on with 0 being the middle one\n",
    "    L = spdiags(data,diags,N,N)#I construct the laplacian by using spdiags, which makes a sparse matrix represenation\n",
    "    return L#of the laplacian based on the derived system of equations\n",
    "    #I return my laplacian "
   ]
  },
  {
   "cell_type": "code",
   "execution_count": null,
   "metadata": {},
   "outputs": [],
   "source": []
  }
 ],
 "metadata": {
  "kernelspec": {
   "display_name": "Python 3",
   "language": "python",
   "name": "python3"
  },
  "language_info": {
   "codemirror_mode": {
    "name": "ipython",
    "version": 3
   },
   "file_extension": ".py",
   "mimetype": "text/x-python",
   "name": "python",
   "nbconvert_exporter": "python",
   "pygments_lexer": "ipython3",
   "version": "3.7.6"
  }
 },
 "nbformat": 4,
 "nbformat_minor": 4
}
