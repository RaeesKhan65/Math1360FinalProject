{
 "cells": [
  {
   "cell_type": "code",
   "execution_count": 3,
   "metadata": {},
   "outputs": [],
   "source": [
    "import psycopg2 as pg2\n",
    "def decorator_insert(original_function):\n",
    "    \"\"\"\n",
    "\n",
    "    This function is a decorator for any function that would insert data\n",
    "    into the DB and is designed in the Query/Content\n",
    " \n",
    "    \"\"\"\n",
    "    def wrapper_function(*args,**kwargs):\n",
    "        a,b = original_function(*args,**kwargs)\n",
    "        conn = pg2.connect(database='FinalProject1360', user='', password='')\n",
    "        cur = conn.cursor()\n",
    "        executable = cur.mogrify(a,b)\n",
    "        cur.execute(executable)\n",
    "        conn.commit()\n",
    "        conn.close()\n",
    "    return wrapper_function"
   ]
  },
  {
   "cell_type": "code",
   "execution_count": 5,
   "metadata": {},
   "outputs": [],
   "source": [
    "@decorator_insert\n",
    "def Ising(params):\n",
    "\n",
    "    \"\"\"\n",
    "        This function is used to upload data from the Ising model Simulation into the SQL DB.\n",
    "\n",
    "        :param: Takes class params and set of params to be inserted.\n",
    "        :type: list\n",
    "        :rtype: string,list\n",
    "        :return: returns a query string and a list of contents.\n",
    "\n",
    "    \"\"\"\n",
    "\n",
    "    query = 'INSERT INTO Ising(data,temperature,energy, magnetization, specific_heat, time_stamp) VALUES (%s,%s,%s,%s,%s,CURRENT_TIMESTAMP)'\n",
    "    content = (params[0],params[1],params[2],params[3],params[4])\n",
    "    return (query,content)"
   ]
  },
  {
   "cell_type": "code",
   "execution_count": null,
   "metadata": {},
   "outputs": [],
   "source": []
  }
 ],
 "metadata": {
  "kernelspec": {
   "display_name": "Python 3",
   "language": "python",
   "name": "python3"
  },
  "language_info": {
   "codemirror_mode": {
    "name": "ipython",
    "version": 3
   },
   "file_extension": ".py",
   "mimetype": "text/x-python",
   "name": "python",
   "nbconvert_exporter": "python",
   "pygments_lexer": "ipython3",
   "version": "3.7.6"
  }
 },
 "nbformat": 4,
 "nbformat_minor": 4
}
